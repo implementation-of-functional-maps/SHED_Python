{
 "cells": [
  {
   "cell_type": "code",
   "execution_count": 2,
   "metadata": {
    "collapsed": false
   },
   "outputs": [],
   "source": []
  },
  {
   "cell_type": "code",
   "execution_count": 7,
   "metadata": {
    "collapsed": false
   },
   "outputs": [
    {
     "ename": "KeyError",
     "evalue": "'03845190-n'",
     "output_type": "error",
     "traceback": [
      "\u001b[0;31m---------------------------------------------------------------------------\u001b[0m",
      "\u001b[0;31mKeyError\u001b[0m                                  Traceback (most recent call last)",
      "\u001b[0;32m<ipython-input-7-959e8294d16a>\u001b[0m in \u001b[0;36m<module>\u001b[0;34m()\u001b[0m\n\u001b[0;32m----> 1\u001b[0;31m \u001b[0mdict_of_levensteins\u001b[0m \u001b[0;34m=\u001b[0m \u001b[0mmain\u001b[0m\u001b[0;34m.\u001b[0m\u001b[0m_\u001b[0m\u001b[0;34m(\u001b[0m\u001b[0;34m'../corpus/heb/wn-data-heb.tab'\u001b[0m\u001b[0;34m,\u001b[0m \u001b[0;34m'../conv_lists/heb_international_phonetic_alphabet.txt'\u001b[0m\u001b[0;34m,\u001b[0m\u001b[0;34m'../corpus/arb/wn-arb.tab'\u001b[0m\u001b[0;34m,\u001b[0m \u001b[0;34m'../conv_lists/arb_international_phonetic_alphabet.txt'\u001b[0m\u001b[0;34m)\u001b[0m\u001b[0;34m\u001b[0m\u001b[0m\n\u001b[0m",
      "\u001b[0;32m/Users/katsurou/Dropbox/ktb/bin/main.py\u001b[0m in \u001b[0;36m_\u001b[0;34m(wordnet_1, international_phonetic_alphabet_1, wordnet_2, international_phonetic_alphabet_2)\u001b[0m\n\u001b[1;32m     74\u001b[0m     \u001b[0;31m# Calucurate Levenstein Distances\u001b[0m\u001b[0;34m\u001b[0m\u001b[0;34m\u001b[0m\u001b[0m\n\u001b[1;32m     75\u001b[0m     \u001b[0;31m##################################################################\u001b[0m\u001b[0;34m\u001b[0m\u001b[0;34m\u001b[0m\u001b[0m\n\u001b[0;32m---> 76\u001b[0;31m     \u001b[0mdict_of_levensteins\u001b[0m \u001b[0;34m=\u001b[0m \u001b[0mlevenstein_wordnet\u001b[0m\u001b[0;34m.\u001b[0m\u001b[0m_\u001b[0m\u001b[0;34m(\u001b[0m \u001b[0mdict_converted1\u001b[0m\u001b[0;34m,\u001b[0m \u001b[0mdict_converted2\u001b[0m \u001b[0;34m)\u001b[0m\u001b[0;34m\u001b[0m\u001b[0m\n\u001b[0m\u001b[1;32m     77\u001b[0m     \u001b[0;31m#-----------------------------------------------------------------\u001b[0m\u001b[0;34m\u001b[0m\u001b[0;34m\u001b[0m\u001b[0m\n\u001b[1;32m     78\u001b[0m     \u001b[0;31m# Return\u001b[0m\u001b[0;34m\u001b[0m\u001b[0;34m\u001b[0m\u001b[0m\n",
      "\u001b[0;32m/Users/katsurou/Dropbox/ktb/bin/levenstein_wordnet.py\u001b[0m in \u001b[0;36m_\u001b[0;34m(dict_converted1, dict_converted2)\u001b[0m\n\u001b[1;32m     46\u001b[0m     \u001b[0;31m##################################################################\u001b[0m\u001b[0;34m\u001b[0m\u001b[0;34m\u001b[0m\u001b[0m\n\u001b[1;32m     47\u001b[0m     \u001b[0;32mfor\u001b[0m \u001b[0msense\u001b[0m\u001b[0;34m,\u001b[0m \u001b[0mregular_words1\u001b[0m \u001b[0;32min\u001b[0m \u001b[0mdict_converted1\u001b[0m\u001b[0;34m.\u001b[0m\u001b[0mitems\u001b[0m\u001b[0;34m(\u001b[0m\u001b[0;34m)\u001b[0m\u001b[0;34m:\u001b[0m\u001b[0;34m\u001b[0m\u001b[0m\n\u001b[0;32m---> 48\u001b[0;31m         \u001b[0;32mif\u001b[0m \u001b[0mdict_converted2\u001b[0m\u001b[0;34m.\u001b[0m\u001b[0mhas_key\u001b[0m\u001b[0;34m(\u001b[0m\u001b[0msense\u001b[0m\u001b[0;34m)\u001b[0m \u001b[0;32mis\u001b[0m \u001b[0;32mTrue\u001b[0m\u001b[0;34m:\u001b[0m\u001b[0;34m\u001b[0m\u001b[0m\n\u001b[0m\u001b[1;32m     49\u001b[0m             \u001b[0mregular_words2\u001b[0m \u001b[0;34m=\u001b[0m \u001b[0mdict_converted2\u001b[0m\u001b[0;34m[\u001b[0m\u001b[0msense\u001b[0m\u001b[0;34m]\u001b[0m\u001b[0;34m\u001b[0m\u001b[0m\n\u001b[1;32m     50\u001b[0m             \u001b[0mlevensteins\u001b[0m \u001b[0;34m=\u001b[0m \u001b[0;34m[\u001b[0m\u001b[0;34m]\u001b[0m\u001b[0;34m\u001b[0m\u001b[0m\n",
      "\u001b[0;31mKeyError\u001b[0m: '03845190-n'"
     ]
    }
   ],
   "source": [
    "dict_of_levensteins = main._('../corpus/heb/wn-data-heb.tab', '../conv_lists/heb_international_phonetic_alphabet.txt','../corpus/arb/wn-arb.tab', '../conv_lists/arb_international_phonetic_alphabet.txt')"
   ]
  },
  {
   "cell_type": "code",
   "execution_count": null,
   "metadata": {
    "collapsed": true
   },
   "outputs": [],
   "source": []
  }
 ],
 "metadata": {
  "anaconda-cloud": {},
  "kernelspec": {
   "display_name": "Python 3",
   "language": "python",
   "name": "python3"
  },
  "language_info": {
   "codemirror_mode": {
    "name": "ipython",
    "version": 3
   },
   "file_extension": ".py",
   "mimetype": "text/x-python",
   "name": "python",
   "nbconvert_exporter": "python",
   "pygments_lexer": "ipython3",
   "version": "3.5.2"
  }
 },
 "nbformat": 4,
 "nbformat_minor": 1
}
