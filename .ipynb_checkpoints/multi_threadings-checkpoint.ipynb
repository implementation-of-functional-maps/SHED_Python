{
 "cells": [
  {
   "cell_type": "code",
   "execution_count": 1,
   "metadata": {
    "collapsed": true
   },
   "outputs": [],
   "source": [
    "import numpy as np\n",
    "n = 1000\n",
    "server = [\"A\", \"B\", \"C\", \"D\", \"E\"]\n",
    "work_proceeding = np.zeros((n, n))\n"
   ]
  },
  {
   "cell_type": "code",
   "execution_count": 2,
   "metadata": {
    "collapsed": false
   },
   "outputs": [
    {
     "data": {
      "text/plain": [
       "array([[ 0.,  0.,  0., ...,  0.,  0.,  0.],\n",
       "       [ 0.,  0.,  0., ...,  0.,  0.,  0.],\n",
       "       [ 0.,  0.,  0., ...,  0.,  0.,  0.],\n",
       "       ..., \n",
       "       [ 0.,  0.,  0., ...,  0.,  0.,  0.],\n",
       "       [ 0.,  0.,  0., ...,  0.,  0.,  0.],\n",
       "       [ 0.,  0.,  0., ...,  0.,  0.,  0.]])"
      ]
     },
     "execution_count": 2,
     "metadata": {},
     "output_type": "execute_result"
    }
   ],
   "source": [
    "work_proceeding "
   ]
  },
  {
   "cell_type": "code",
   "execution_count": 3,
   "metadata": {
    "collapsed": false
   },
   "outputs": [
    {
     "name": "stdout",
     "output_type": "stream",
     "text": [
      "Worker\n",
      "Worker\n",
      "Worker\n",
      "Worker\n",
      "Worker\n"
     ]
    }
   ],
   "source": [
    "import threading\n",
    "\n",
    "def worker():\n",
    "    \"\"\"thread worker function\"\"\"\n",
    "    print('Worker')\n",
    "    return\n",
    "\n",
    "threads = []\n",
    "for i in range(5):\n",
    "    t = threading.Thread(target=worker)\n",
    "    threads.append(t)\n",
    "    t.start()"
   ]
  },
  {
   "cell_type": "code",
   "execution_count": 9,
   "metadata": {
    "collapsed": false
   },
   "outputs": [
    {
     "name": "stdout",
     "output_type": "stream",
     "text": [
      "Worker\n",
      "0.6938167554551948\n",
      "Worker\n",
      "0.9310083919494607\n",
      "Worker\n",
      "0.056718409890287536\n",
      "Worker\n",
      "0.3051948872674467\n",
      "Worker\n",
      "0.3730929783995055\n",
      "[0.6938167554551948, 0.9310083919494607, 0.056718409890287536, 0.3051948872674467, 0.3730929783995055]\n"
     ]
    }
   ],
   "source": [
    "import threading\n",
    "import random\n",
    "import time\n",
    "\n",
    "randoms = []\n",
    "def worker():\n",
    "    \"\"\"thread worker function\"\"\"\n",
    "    print('Worker')\n",
    "    r = random.random()\n",
    "    print(r)\n",
    "    randoms.append(r)\n",
    "    time.sleep(5)\n",
    "    return\n",
    "\n",
    "threads = []\n",
    "for i in range(5):\n",
    "    t = threading.Thread(target=worker)\n",
    "    threads.append(t)\n",
    "    t.start()\n",
    "    \n",
    "print(randoms)"
   ]
  },
  {
   "cell_type": "code",
   "execution_count": 11,
   "metadata": {
    "collapsed": false
   },
   "outputs": [
    {
     "name": "stdout",
     "output_type": "stream",
     "text": [
      "Start\n",
      "Start\n",
      "Start\n",
      "Start\n",
      "Start\n",
      "0.25851775799829535\n",
      "Done\n",
      "0.595942340785736\n",
      "Done\n",
      "0.16286397560093602\n",
      "Done\n",
      "0.2812853166737693\n",
      "Done\n",
      "0.5042431904171496\n",
      "Done\n",
      "[0.40648269775051726, 0.7450104602900028, 0.70303530890753, 0.04248054254098732, 0.864059776514245, 0.25851775799829535, 0.595942340785736, 0.16286397560093602, 0.2812853166737693, 0.5042431904171496]\n"
     ]
    }
   ],
   "source": [
    "# multithreading by oshima sensei\n",
    "import threading\n",
    "import time\n",
    "import random\n",
    "\n",
    "\n",
    "\n",
    "def worker():\n",
    "    \"\"\"thread worker function\"\"\"\n",
    "    print('Start')\n",
    "    time.sleep(5)\n",
    "    r = random.random()\n",
    "    print(r)\n",
    "    with lock_obj:\n",
    "        results.append(r)\n",
    "    print('Done')\n",
    "    return\n",
    "\n",
    "lock_obj = threading.Lock()\n",
    "# results = []\n",
    "\n",
    "threads = []\n",
    "for i in range(5):\n",
    "    t = threading.Thread(target=worker)\n",
    "    threads.append(t)\n",
    "    t.start()\n",
    "\n",
    "time.sleep(8)\n",
    "print(results)\n",
    "\n",
    "\n"
   ]
  },
  {
   "cell_type": "code",
   "execution_count": 51,
   "metadata": {
    "collapsed": false
   },
   "outputs": [],
   "source": [
    "import numpy as np\n",
    "import random\n",
    "import time\n",
    "import threading\n",
    "n = 3\n",
    "workspace = np.zeros((n, n))\n",
    "helloes = [ [ None for i in range(n)] for i in range(n)]"
   ]
  },
  {
   "cell_type": "code",
   "execution_count": 52,
   "metadata": {
    "collapsed": false
   },
   "outputs": [
    {
     "data": {
      "text/plain": [
       "[[None, None, None], [None, None, None], [None, None, None]]"
      ]
     },
     "execution_count": 52,
     "metadata": {},
     "output_type": "execute_result"
    }
   ],
   "source": [
    "helloes"
   ]
  },
  {
   "cell_type": "code",
   "execution_count": 8,
   "metadata": {
    "collapsed": false
   },
   "outputs": [
    {
     "name": "stdout",
     "output_type": "stream",
     "text": [
      "ind 1\n",
      "i, j: 0 0\n",
      "server mcs02\n",
      "worker_servers {'mcs02': 1, 'mcs01': 2, 'mcs03': 2}\n",
      "Start\n",
      "Done\n",
      "[['Hello!', None, None], [None, None, None], [None, None, None]]\n",
      "worker_servers {'mcs02': 1, 'mcs01': 2, 'mcs03': 2}\n",
      "i, j: 0 1\n",
      "server mcs02\n",
      "worker_servers {'mcs02': 1, 'mcs01': 1, 'mcs03': 2}\n",
      "Start\n",
      "Done\n",
      "[['Hello!', 'Hello!', None], [None, None, None], [None, None, None]]\n",
      "worker_servers {'mcs02': 1, 'mcs01': 1, 'mcs03': 2}\n",
      "i, j: 0 2\n",
      "server mcs01\n",
      "worker_servers {'mcs02': 1, 'mcs01': 1, 'mcs03': 1}\n",
      "Start\n",
      "Done\n",
      "[['Hello!', 'Hello!', 'Hello!'], [None, None, None], [None, None, None]]\n",
      "worker_servers {'mcs02': 2, 'mcs01': 1, 'mcs03': 1}\n",
      "ind 0\n",
      "i, j: 1 1\n",
      "server mcs03\n",
      "worker_servers {'mcs02': 1, 'mcs01': 1, 'mcs03': 1}\n",
      "Start\n",
      "Done\n",
      "[['Hello!', 'Hello!', 'Hello!'], [None, 'Hello!', None], [None, None, None]]\n",
      "worker_servers {'mcs02': 1, 'mcs01': 1, 'mcs03': 1}\n",
      "i, j: 1 2\n",
      "Full Using\n"
     ]
    },
    {
     "ename": "UnboundLocalError",
     "evalue": "local variable 'login_server' referenced before assignment",
     "output_type": "error",
     "traceback": [
      "\u001b[0;31m---------------------------------------------------------------------------\u001b[0m",
      "\u001b[0;31mUnboundLocalError\u001b[0m                         Traceback (most recent call last)",
      "\u001b[0;32m<ipython-input-8-3d010575d4e9>\u001b[0m in \u001b[0;36m<module>\u001b[0;34m()\u001b[0m\n\u001b[1;32m     59\u001b[0m     \u001b[0;32mfor\u001b[0m \u001b[0mj\u001b[0m \u001b[0;32min\u001b[0m \u001b[0mrange\u001b[0m\u001b[0;34m(\u001b[0m\u001b[0mi\u001b[0m\u001b[0;34m,\u001b[0m\u001b[0mn\u001b[0m\u001b[0;34m)\u001b[0m\u001b[0;34m:\u001b[0m\u001b[0;34m\u001b[0m\u001b[0m\n\u001b[1;32m     60\u001b[0m         \u001b[0mprint\u001b[0m\u001b[0;34m(\u001b[0m\u001b[0;34m\"i, j:\"\u001b[0m\u001b[0;34m,\u001b[0m\u001b[0mi\u001b[0m\u001b[0;34m,\u001b[0m\u001b[0mj\u001b[0m\u001b[0;34m)\u001b[0m\u001b[0;34m\u001b[0m\u001b[0m\n\u001b[0;32m---> 61\u001b[0;31m         \u001b[0;34m[\u001b[0m\u001b[0mworker_servers\u001b[0m\u001b[0;34m,\u001b[0m \u001b[0mserver\u001b[0m\u001b[0;34m]\u001b[0m \u001b[0;34m=\u001b[0m \u001b[0mrlogin_worker_server\u001b[0m\u001b[0;34m(\u001b[0m\u001b[0;34m)\u001b[0m\u001b[0;34m\u001b[0m\u001b[0m\n\u001b[0m\u001b[1;32m     62\u001b[0m \u001b[0;34m\u001b[0m\u001b[0m\n\u001b[1;32m     63\u001b[0m         \u001b[0mworker_servers\u001b[0m \u001b[0;34m=\u001b[0m \u001b[0mrlogout_worker_server\u001b[0m\u001b[0;34m(\u001b[0m\u001b[0mworker_servers\u001b[0m\u001b[0;34m)\u001b[0m\u001b[0;34m\u001b[0m\u001b[0m\n",
      "\u001b[0;32m<ipython-input-8-3d010575d4e9>\u001b[0m in \u001b[0;36mrlogin_worker_server\u001b[0;34m()\u001b[0m\n\u001b[1;32m     33\u001b[0m     \u001b[0;32melse\u001b[0m\u001b[0;34m:\u001b[0m\u001b[0;34m\u001b[0m\u001b[0m\n\u001b[1;32m     34\u001b[0m         \u001b[0mprint\u001b[0m\u001b[0;34m(\u001b[0m\u001b[0;34m\"Full Using\"\u001b[0m\u001b[0;34m)\u001b[0m\u001b[0;34m\u001b[0m\u001b[0m\n\u001b[0;32m---> 35\u001b[0;31m         \u001b[0;32mreturn\u001b[0m \u001b[0;34m[\u001b[0m\u001b[0mworker_servers\u001b[0m\u001b[0;34m,\u001b[0m \u001b[0mlogin_server\u001b[0m\u001b[0;34m]\u001b[0m\u001b[0;34m\u001b[0m\u001b[0m\n\u001b[0m\u001b[1;32m     36\u001b[0m \u001b[0;34m\u001b[0m\u001b[0m\n\u001b[1;32m     37\u001b[0m \u001b[0;32mdef\u001b[0m \u001b[0mrlogout_worker_server\u001b[0m\u001b[0;34m(\u001b[0m\u001b[0mworker_servers\u001b[0m\u001b[0;34m)\u001b[0m\u001b[0;34m:\u001b[0m\u001b[0;34m\u001b[0m\u001b[0m\n",
      "\u001b[0;31mUnboundLocalError\u001b[0m: local variable 'login_server' referenced before assignment"
     ]
    }
   ],
   "source": [
    "import numpy as np\n",
    "import random\n",
    "import time\n",
    "import threading\n",
    "n = 3\n",
    "workspace = np.zeros((n, n))\n",
    "for i in range(n):\n",
    "    for j in range(i):\n",
    "        workspace[i,j] = 4\n",
    "        \n",
    "helloes = [ [ None for i in range(n)] for j in range(n)]\n",
    "\n",
    "worker_servers = {\"mcs01\": 2} # 2  = \"Vacant\"\n",
    "worker_servers.update({\"mcs02\": 2})\n",
    "worker_servers.update({\"mcs03\": 2})\n",
    "\n",
    "def rlogin_worker_server():\n",
    "    from operator import itemgetter\n",
    "    # login_server = max(worker_servers.iteritems(), key=operator.itemgetter(1))[0]\n",
    "    if max(worker_servers.values()) != 1:\n",
    "        login_server = max(worker_servers.items(), key=itemgetter(1))[0]\n",
    "        worker_servers[login_server] = 1 # 1 = \"Logined\" ここを rlogin subprocess で置き換え\n",
    "        print(\"server\", server)\n",
    "        print(\"worker_servers\", worker_servers)\n",
    "        workspace[i,j] = 1\n",
    "        # time.sleep(8)\n",
    "        t = threading.Thread(target=worker, args=(i,j))\n",
    "        threads.append(t)\n",
    "        t.start()\n",
    "        print(helloes)\n",
    "        workspace[i,j] = 2\n",
    "        return [worker_servers, login_server]\n",
    "    else:\n",
    "        print(\"Full Using\")\n",
    "        return [worker_servers, None]\n",
    "\n",
    "def rlogout_worker_server(worker_servers):\n",
    "    coin = random.randint(0,1)\n",
    "    if coin == 0:\n",
    "        ind = random.randint(0,2)\n",
    "        servers = [\"mcs01\", \"mcs02\", \"mcs03\"]\n",
    "        server = servers[ind]\n",
    "        worker_servers[server] = 2 # 1 = \"Logined\" ここを rlogin subprocess で置き換え\n",
    "    return worker_servers\n",
    "\n",
    "def worker(i,j):\n",
    "    \"\"\"thread worker function\"\"\"\n",
    "    print('Start')\n",
    "    # time.sleep(5)\n",
    "    helloes[i][j] = \"Hello!\"\n",
    "    print('Done')\n",
    "    return helloes[i][j]\n",
    "\n",
    "i = 0\n",
    "threads = []\n",
    "while np.min(workspace) == 0.0:\n",
    "    ind = random.randint(0,1)\n",
    "    print(\"ind\", ind)\n",
    "    for j in range(i,n):\n",
    "        print(\"i, j:\",i,j)\n",
    "        [worker_servers, server] = rlogin_worker_server()\n",
    "        \n",
    "        worker_servers = rlogout_worker_server(worker_servers)\n",
    "        print(\"worker_servers\", worker_servers)\n",
    "    \n",
    "    i += 1"
   ]
  },
  {
   "cell_type": "code",
   "execution_count": 14,
   "metadata": {
    "collapsed": false
   },
   "outputs": [
    {
     "data": {
      "text/plain": [
       "array([[ 2.,  2.,  2.],\n",
       "       [ 4.,  2.,  2.],\n",
       "       [ 4.,  4.,  2.]])"
      ]
     },
     "execution_count": 14,
     "metadata": {},
     "output_type": "execute_result"
    }
   ],
   "source": [
    "workspace"
   ]
  },
  {
   "cell_type": "code",
   "execution_count": 55,
   "metadata": {
    "collapsed": true
   },
   "outputs": [],
   "source": [
    "def worker(i,j):\n",
    "    \"\"\"thread worker function\"\"\"\n",
    "    print('Start')\n",
    "    # time.sleep(5)\n",
    "    helloes[i][j] = \"Hello!\"\n",
    "    print('Done')\n",
    "    return helloes[i][j]"
   ]
  },
  {
   "cell_type": "code",
   "execution_count": 3,
   "metadata": {
    "collapsed": false
   },
   "outputs": [
    {
     "data": {
      "text/plain": [
       "[['Hello!', 'Hello!', 'Hello!'],\n",
       " ['Hello!', 'Hello!', 'Hello!'],\n",
       " ['Hello!', 'Hello!', 'Hello!']]"
      ]
     },
     "execution_count": 3,
     "metadata": {},
     "output_type": "execute_result"
    }
   ],
   "source": [
    "helloes"
   ]
  },
  {
   "cell_type": "code",
   "execution_count": 6,
   "metadata": {
    "collapsed": true
   },
   "outputs": [],
   "source": [
    "worker_servers = {\"mcs01\": \"Vacant\"}\n",
    "worker_servers.update({\"mcs02\": \"Vacant\"})\n",
    "worker_servers.update({\"mcs03\": \"Vacant\"})\n"
   ]
  },
  {
   "cell_type": "code",
   "execution_count": 7,
   "metadata": {
    "collapsed": false
   },
   "outputs": [
    {
     "data": {
      "text/plain": [
       "{'mcs01': 'Vacant', 'mcs02': 'Vacant', 'mcs03': 'Vacant'}"
      ]
     },
     "execution_count": 7,
     "metadata": {},
     "output_type": "execute_result"
    }
   ],
   "source": [
    "worker_servers "
   ]
  },
  {
   "cell_type": "code",
   "execution_count": 8,
   "metadata": {
    "collapsed": false
   },
   "outputs": [
    {
     "data": {
      "text/plain": [
       "<Thread(Thread-12, stopped 123145342259200)>"
      ]
     },
     "execution_count": 8,
     "metadata": {},
     "output_type": "execute_result"
    }
   ],
   "source": [
    "t"
   ]
  },
  {
   "cell_type": "code",
   "execution_count": 9,
   "metadata": {
    "collapsed": false
   },
   "outputs": [
    {
     "ename": "TypeError",
     "evalue": "'Thread' object does not support indexing",
     "output_type": "error",
     "traceback": [
      "\u001b[0;31m---------------------------------------------------------------------------\u001b[0m",
      "\u001b[0;31mTypeError\u001b[0m                                 Traceback (most recent call last)",
      "\u001b[0;32m<ipython-input-9-d0a24a012877>\u001b[0m in \u001b[0;36m<module>\u001b[0;34m()\u001b[0m\n\u001b[0;32m----> 1\u001b[0;31m \u001b[0mt\u001b[0m\u001b[0;34m[\u001b[0m\u001b[0;36m0\u001b[0m\u001b[0;34m]\u001b[0m\u001b[0;34m\u001b[0m\u001b[0m\n\u001b[0m",
      "\u001b[0;31mTypeError\u001b[0m: 'Thread' object does not support indexing"
     ]
    }
   ],
   "source": []
  },
  {
   "cell_type": "code",
   "execution_count": 3,
   "metadata": {
    "collapsed": true
   },
   "outputs": [],
   "source": [
    "import numpy as np\n",
    "import random\n",
    "import time\n",
    "import threading\n",
    "n = 3\n",
    "workspace = np.zeros((n, n))\n",
    "for i in range(n):\n",
    "    for j in range(i):\n",
    "        workspace[i,j] = 4\n",
    "        \n",
    "for i in range(n):\n",
    "    for j in range(i, n):\n",
    "        workspace[i,j] = 5"
   ]
  },
  {
   "cell_type": "code",
   "execution_count": 4,
   "metadata": {
    "collapsed": false
   },
   "outputs": [
    {
     "data": {
      "text/plain": [
       "array([[ 5.,  5.,  5.],\n",
       "       [ 4.,  5.,  5.],\n",
       "       [ 4.,  4.,  5.]])"
      ]
     },
     "execution_count": 4,
     "metadata": {},
     "output_type": "execute_result"
    }
   ],
   "source": [
    "workspace "
   ]
  },
  {
   "cell_type": "code",
   "execution_count": 2,
   "metadata": {
    "collapsed": false
   },
   "outputs": [
    {
     "name": "stdout",
     "output_type": "stream",
     "text": [
      "i, j: 0 2\n",
      "worker_servers {'mcs01': 2, 'mcs03': 2, 'mcs02': 2}\n",
      "Start\n",
      "Done\n",
      "[[None, None, 'Hello!'], [None, None, None], [None, None, None]]\n",
      "worker_servers {'mcs01': 1, 'mcs03': 2, 'mcs02': 2}\n",
      "workspace [[ 0.  0.  2.]\n",
      " [ 4.  0.  0.]\n",
      " [ 4.  4.  0.]]\n",
      "i, j: 0 1\n",
      "worker_servers {'mcs01': 1, 'mcs03': 2, 'mcs02': 2}\n",
      "Start\n",
      "Done\n",
      "[[None, 'Hello!', 'Hello!'], [None, None, None], [None, None, None]]\n",
      "worker_servers {'mcs01': 1, 'mcs03': 1, 'mcs02': 2}\n",
      "workspace [[ 0.  2.  2.]\n",
      " [ 4.  0.  0.]\n",
      " [ 4.  4.  0.]]\n",
      "i, j: 0 0\n",
      "worker_servers {'mcs01': 1, 'mcs03': 1, 'mcs02': 2}\n",
      "Start\n",
      "Done\n",
      "[['Hello!', 'Hello!', 'Hello!'], [None, None, None], [None, None, None]]\n",
      "worker_servers {'mcs01': 1, 'mcs03': 1, 'mcs02': 1}\n",
      "workspace [[ 2.  2.  2.]\n",
      " [ 4.  0.  0.]\n",
      " [ 4.  4.  0.]]\n",
      "i, j: 1 2\n",
      "worker_servers {'mcs01': 1, 'mcs03': 1, 'mcs02': 1}\n",
      "Full Using, Then logout.\n",
      "mcs03\n",
      "worker_servers {'mcs01': 1, 'mcs03': 2, 'mcs02': 1}\n",
      "workspace [[ 2.  2.  2.]\n",
      " [ 4.  0.  0.]\n",
      " [ 4.  4.  0.]]\n",
      "i, j: 1 2\n",
      "worker_servers {'mcs01': 1, 'mcs03': 2, 'mcs02': 1}\n",
      "Start\n",
      "Done\n",
      "[['Hello!', 'Hello!', 'Hello!'], [None, None, 'Hello!'], [None, None, None]]\n",
      "worker_servers {'mcs01': 1, 'mcs03': 1, 'mcs02': 1}\n",
      "workspace [[ 2.  2.  2.]\n",
      " [ 4.  0.  2.]\n",
      " [ 4.  4.  0.]]\n",
      "i, j: 1 1\n",
      "worker_servers {'mcs01': 1, 'mcs03': 1, 'mcs02': 1}\n",
      "Full Using, Then logout.\n",
      "mcs02\n",
      "worker_servers {'mcs01': 1, 'mcs03': 1, 'mcs02': 2}\n",
      "workspace [[ 2.  2.  2.]\n",
      " [ 4.  0.  2.]\n",
      " [ 4.  4.  0.]]\n",
      "i, j: 1 1\n",
      "worker_servers {'mcs01': 1, 'mcs03': 1, 'mcs02': 2}\n",
      "Start\n",
      "Done\n",
      "[['Hello!', 'Hello!', 'Hello!'], [None, 'Hello!', 'Hello!'], [None, None, None]]\n",
      "worker_servers {'mcs01': 1, 'mcs03': 1, 'mcs02': 1}\n",
      "workspace [[ 2.  2.  2.]\n",
      " [ 4.  2.  2.]\n",
      " [ 4.  4.  0.]]\n",
      "i, j: 1 0\n",
      "worker_servers {'mcs01': 1, 'mcs03': 1, 'mcs02': 1}\n",
      "Full Using, Then logout.\n",
      "mcs02\n",
      "worker_servers {'mcs01': 1, 'mcs03': 1, 'mcs02': 2}\n",
      "workspace [[ 2.  2.  2.]\n",
      " [ 4.  2.  2.]\n",
      " [ 4.  4.  0.]]\n",
      "i, j: 1 0\n",
      "worker_servers {'mcs01': 1, 'mcs03': 1, 'mcs02': 2}\n",
      "worker_servers {'mcs01': 1, 'mcs03': 1, 'mcs02': 2}\n",
      "workspace [[ 2.  2.  2.]\n",
      " [ 4.  2.  2.]\n",
      " [ 4.  4.  0.]]\n",
      "i, j: 2 2\n",
      "worker_servers {'mcs01': 1, 'mcs03': 1, 'mcs02': 2}\n",
      "Start\n",
      "Done\n",
      "[['Hello!', 'Hello!', 'Hello!'], [None, 'Hello!', 'Hello!'], [None, None, 'Hello!']]\n",
      "worker_servers {'mcs01': 1, 'mcs03': 1, 'mcs02': 1}\n",
      "workspace [[ 2.  2.  2.]\n",
      " [ 4.  2.  2.]\n",
      " [ 4.  4.  2.]]\n"
     ]
    }
   ],
   "source": [
    "# 161205\n",
    "# Full Using になった時の対処ができてない。\n",
    "import numpy as np\n",
    "import random\n",
    "import time\n",
    "import threading\n",
    "n = 3\n",
    "workspace = np.zeros((n, n))\n",
    "for i in range(n):\n",
    "    for j in range(i):\n",
    "        workspace[i,j] = 4\n",
    "        \n",
    "helloes = [ [ None for i in range(n)] for j in range(n)]\n",
    "\n",
    "worker_servers = {\"mcs01\": 2} # 2  = \"Vacant\"\n",
    "worker_servers.update({\"mcs02\": 2})\n",
    "worker_servers.update({\"mcs03\": 2})\n",
    "# worker_servers.update({\"None\": 2})\n",
    "\n",
    "def worker(i,j):\n",
    "    \"\"\"thread worker function\"\"\"\n",
    "    print('Start')\n",
    "    # time.sleep(5)\n",
    "    helloes[i][j] = \"Hello!\"\n",
    "    print('Done')\n",
    "    return helloes[i][j]\n",
    "\n",
    "def rlogin_worker_server(workspace, worker_servers, i, j, k):\n",
    "    from operator import itemgetter\n",
    "    # login_server = max(worker_servers.iteritems(), key=operator.itemgetter(1))[0]\n",
    "    print(\"worker_servers\", worker_servers)\n",
    "    if max(worker_servers.values()) != 1 and workspace[i,j] != 4:\n",
    "        login_server = max(worker_servers.items(), key=itemgetter(1))[0]\n",
    "        \n",
    "        worker_servers[login_server] = 1 # 1 = \"Logined\" ここを rlogin subprocess で置き換え\n",
    "        \n",
    "        workspace[i,j] = 1\n",
    "        # time.sleep(8)\n",
    "        t = threading.Thread(target=worker, args=(i,j))\n",
    "        threads.append(t)\n",
    "        t.start()\n",
    "        print(helloes)\n",
    "        workspace[i,j] = 2\n",
    "        # worker_servers = rlogout_worker_server(server)\n",
    "        k += 1\n",
    "        return [workspace, worker_servers, k]\n",
    "    elif max(worker_servers.values()) != 1 and workspace[i,j] == 4:\n",
    "        k += 1\n",
    "        return [workspace, worker_servers, k]\n",
    "    else:\n",
    "        # continue\n",
    "        print(\"Full Using, Then logout.\")\n",
    "        ind2 = random.randint(0,2)\n",
    "        servers = [\"mcs01\", \"mcs02\", \"mcs03\"]\n",
    "        server = servers[ind2]\n",
    "        print(server)\n",
    "        worker_servers[server] = 2 # 2 = \"Vacant\" ここを rlogout subprocess で置き換え\n",
    "        # return worker_servers\n",
    "        return [workspace, worker_servers, k]\n",
    "\n",
    "#def rlogout_worker_server(server):\n",
    "#    if server == \"None\":\n",
    "#\n",
    "#    else:  \n",
    "#        return worker_servers\n",
    "#\n",
    "\n",
    "\n",
    "k = 0\n",
    "i = 0\n",
    "j = 0\n",
    "threads = []\n",
    "while np.min(workspace) == 0.0:\n",
    "    #ind = random.randint(0,1)\n",
    "    #print(\"ind\", ind)\n",
    "    i = k // n \n",
    "    j = (n-1) - (k % n )\n",
    "    print(\"i, j:\",i,j)\n",
    "    [workspace, worker_servers, k] = rlogin_worker_server(workspace, worker_servers, i, j, k)\n",
    "    # worker_servers = rlogout_worker_server(server)\n",
    "    # print(\"server\", server)\n",
    "    print(\"worker_servers\", worker_servers)\n",
    "    print(\"workspace\", workspace)\n",
    "    "
   ]
  },
  {
   "cell_type": "code",
   "execution_count": 3,
   "metadata": {
    "collapsed": false
   },
   "outputs": [
    {
     "data": {
      "text/plain": [
       "1"
      ]
     },
     "execution_count": 3,
     "metadata": {},
     "output_type": "execute_result"
    }
   ],
   "source": [
    "import subprocess\n",
    "\n",
    "\n",
    "# 161205\n",
    "# Full Using になった時の対処ができてない。\n",
    "import numpy as np\n",
    "import random\n",
    "import time\n",
    "import threading\n",
    "n = 3\n",
    "workspace = np.zeros((n, n))\n",
    "for i in range(n):\n",
    "    for j in range(i):\n",
    "        workspace[i,j] = 4\n",
    "        \n",
    "helloes = [ [ None for i in range(n)] for j in range(n)]\n",
    "\n",
    "worker_servers = {\"mcs01\": 2} # 2  = \"Vacant\"\n",
    "worker_servers.update({\"mcs02\": 2})\n",
    "worker_servers.update({\"mcs03\": 2})\n",
    "# worker_servers.update({\"None\": 2})\n",
    "\n",
    "def worker(i,j):\n",
    "    \"\"\"thread worker function\"\"\"\n",
    "    print('Start')\n",
    "    # cmd1 = \"cat ~/Desktop/1.off > ~/Desktop/trial/3.off\"\n",
    "    # subprocess.call( cmd1, shell=True  ) \n",
    "    cmd2 = \"cat ~/Desktop/1.off > ~/Desktop/trial/3.off\"\n",
    "    subprocess.call( cmd2, shell=True  ) \n",
    "    helloes[i][j] = \"Hello!\"\n",
    "    print('Done')\n",
    "    return helloes[i][j]\n",
    "\n",
    "def rlogin_worker_server(workspace, worker_servers, i, j, k):\n",
    "    from operator import itemgetter\n",
    "    # login_server = max(worker_servers.iteritems(), key=operator.itemgetter(1))[0]\n",
    "    print(\"worker_servers\", worker_servers)\n",
    "    if max(worker_servers.values()) != 1 and workspace[i,j] != 4:\n",
    "        login_server = max(worker_servers.items(), key=itemgetter(1))[0]\n",
    "        \n",
    "        worker_servers[login_server] = 1 # 1 = \"Logined\" ここを rlogin subprocess で置き換え\n",
    "        \n",
    "        workspace[i,j] = 1\n",
    "        # time.sleep(8)\n",
    "        t = threading.Thread(target=worker, args=(i,j))\n",
    "        threads.append(t)\n",
    "        t.start()\n",
    "        print(helloes)\n",
    "        workspace[i,j] = 2\n",
    "        # worker_servers = rlogout_worker_server(server)\n",
    "        k += 1\n",
    "        return [workspace, worker_servers, k]\n",
    "    elif max(worker_servers.values()) != 1 and workspace[i,j] == 4:\n",
    "        k += 1\n",
    "        return [workspace, worker_servers, k]\n",
    "    else:\n",
    "        # continue\n",
    "        print(\"Full Using, Then logout.\")\n",
    "        ind2 = random.randint(0,2)\n",
    "        servers = [\"mcs01\", \"mcs02\", \"mcs03\"]\n",
    "        server = servers[ind2]\n",
    "        print(server)\n",
    "        worker_servers[server] = 2 # 2 = \"Vacant\" ここを rlogout subprocess で置き換え\n",
    "        # return worker_servers\n",
    "        return [workspace, worker_servers, k]\n",
    "\n",
    "k = 0\n",
    "i = 0\n",
    "j = 0\n",
    "threads = []\n",
    "while np.min(workspace) == 0.0:\n",
    "    i = k // n \n",
    "    j = (n-1) - (k % n )\n",
    "    print(\"i, j:\",i,j)\n",
    "    [workspace, worker_servers, k] = rlogin_worker_server(workspace, worker_servers, i, j, k)\n",
    "    print(\"worker_servers\", worker_servers)\n",
    "    print(\"workspace\\n\", workspace)\n",
    "    "
   ]
  },
  {
   "cell_type": "code",
   "execution_count": null,
   "metadata": {
    "collapsed": true
   },
   "outputs": [],
   "source": []
  }
 ],
 "metadata": {
  "kernelspec": {
   "display_name": "Python 3",
   "language": "python",
   "name": "python3"
  },
  "language_info": {
   "codemirror_mode": {
    "name": "ipython",
    "version": 3
   },
   "file_extension": ".py",
   "mimetype": "text/x-python",
   "name": "python",
   "nbconvert_exporter": "python",
   "pygments_lexer": "ipython3",
   "version": "3.5.1"
  }
 },
 "nbformat": 4,
 "nbformat_minor": 0
}
